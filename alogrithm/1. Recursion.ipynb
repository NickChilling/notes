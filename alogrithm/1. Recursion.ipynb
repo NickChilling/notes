{
 "cells": [
  {
   "cell_type": "markdown",
   "metadata": {},
   "source": [
    "# Recurison\n",
    "\n",
    "## Reductions\n",
    "\n",
    "递归的关键点在于将问题X 分解为黑箱问题Y。黑箱问题即是不关注Y的具体算法，只考虑它的返回结果。将Y 的具体算法视作其他人的工作。\n",
    "\n",
    "## Simplify and Delegate\n",
    "\n",
    "- 如果问题能够被直接解决就直接解决\n",
    "- 如果不能直接解决就将其简化为一个更简单的问题"
   ]
  },
  {
   "cell_type": "markdown",
   "metadata": {},
   "source": [
    "Tower of Hanoi\n",
    "\n",
    "关键问题在于递归思想。\n",
    "\n",
    "(source,temp,destination)\n",
    "\n",
    "从source 移动前n-1层到temp\n",
    "\n",
    "将第n层从source 移动到 destination\n",
    "\n",
    "将n-1层从temp 移动到 destination\n",
    "\n",
    "$T(n)=2T(n-1)+1=2^n-1$"
   ]
  },
  {
   "cell_type": "markdown",
   "metadata": {},
   "source": [
    "## merge sort\n",
    "1. 将数组分为两个相等的数组\n",
    "2. 递归进行排序\n",
    "3. 将排好序的数组归并"
   ]
  },
  {
   "cell_type": "code",
   "execution_count": 26,
   "metadata": {},
   "outputs": [
    {
     "name": "stdout",
     "output_type": "stream",
     "text": [
      "[1, 2, 3, 4]\n"
     ]
    }
   ],
   "source": [
    "def merge_sort(array,start,end): # 左闭右开\n",
    "    n = end-start\n",
    "    if n > 1:\n",
    "        merge_sort(array,start,start+n//2)\n",
    "        merge_sort(array,start+n//2,end)\n",
    "        merge(array,start,end)\n",
    "def merge(array,start,end):\n",
    "    n = end-start\n",
    "    new_array = []\n",
    "    if n > 1:\n",
    "        i ,j = start,start+n//2\n",
    "        while i<(start+n//2) and j<end:\n",
    "            if array[i]<=array[j]:\n",
    "                new_array.append(array[i])\n",
    "                i += 1\n",
    "            else:\n",
    "                new_array.append(array[j])\n",
    "                j += 1\n",
    "        while i<(start+n//2):\n",
    "            new_array.append(array[i])\n",
    "            i += 1\n",
    "        while j < end:\n",
    "            new_array.append(array[j])\n",
    "            j += 1\n",
    "    array[start:end] = new_array\n",
    "test_case = [4,3,2,1]\n",
    "merge_sort(test_case,0,4)\n",
    "print(test_case)"
   ]
  },
  {
   "cell_type": "markdown",
   "metadata": {},
   "source": [
    "$T(n) = T(n/2)+T(n/2)+O(n) = O(nlogn)$"
   ]
  },
  {
   "cell_type": "code",
   "execution_count": 1,
   "metadata": {
    "scrolled": false
   },
   "outputs": [
    {
     "name": "stdout",
     "output_type": "stream",
     "text": [
      "139697440582152\n",
      "139697556304928\n",
      "139697440582664\n"
     ]
    }
   ],
   "source": [
    "test = [1,2,3,4]\n",
    "print(id(test))\n",
    "print(id(test[0]))\n",
    "print(id(test[:]))"
   ]
  },
  {
   "cell_type": "code",
   "execution_count": 27,
   "metadata": {},
   "outputs": [
    {
     "name": "stdout",
     "output_type": "stream",
     "text": [
      "139697556304928\n",
      "139697556304960\n",
      "139697556304992\n",
      "139697556305024\n",
      "139697556304928\n"
     ]
    }
   ],
   "source": [
    "for i in test:\n",
    "    print(id(i))\n",
    "print(id(test[0]))"
   ]
  },
  {
   "cell_type": "markdown",
   "metadata": {},
   "source": [
    "这里有一个坑在于，对`Python`中的`list`而言。使用索引，并不会新建对象。而切片则会产生新对象。如果将切片传入函数中进行修改，那么修改的是新对象。"
   ]
  },
  {
   "cell_type": "markdown",
   "metadata": {},
   "source": [
    "## Quick sort\n",
    "1. choose a pivot \n",
    "2. parition the array into three subarrays, smaller, equal, lager\n",
    "3. recursively quicksort "
   ]
  },
  {
   "cell_type": "code",
   "execution_count": null,
   "metadata": {},
   "outputs": [],
   "source": [
    "def quick_sort(array,start,end):\n",
    "    n = end-start\n",
    "    if n>1:\n",
    "        pivot = start+n//2\n",
    "        r = partition(array,start,end,pivot)\n",
    "        quick_sort(array,start,r)\n",
    "        quick_sort(array,r,end)\n",
    "def partition(array,start,end,pivot):\n",
    "    array[end-1], array[pivot] = array[pivot], array[end-1]\n",
    "    for i in range(start,end):\n",
    "        r = 0 \n",
    "        if array[i]< array[pivot]:\n",
    "            i += 1\n",
    "            array[r], array[i] = array[i], array[r]\n",
    "        array[end-1],array[r+1] = array[r+1],array[end-1]\n",
    "        return r\n",
    "\n",
    "        "
   ]
  }
 ],
 "metadata": {
  "kernelspec": {
   "display_name": "Python 3",
   "language": "python",
   "name": "python3"
  },
  "language_info": {
   "codemirror_mode": {
    "name": "ipython",
    "version": 3
   },
   "file_extension": ".py",
   "mimetype": "text/x-python",
   "name": "python",
   "nbconvert_exporter": "python",
   "pygments_lexer": "ipython3",
   "version": "3.7.3"
  }
 },
 "nbformat": 4,
 "nbformat_minor": 2
}
