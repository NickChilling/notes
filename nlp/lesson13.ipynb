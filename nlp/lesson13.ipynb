{
 "cells": [
  {
   "cell_type": "markdown",
   "metadata": {},
   "source": [
    "# RNN\n",
    "\n",
    "序列: 特征之间的前后关系影响它的标签.\n",
    "\n",
    "特征与样本在序列中是相似的.\n",
    "\n",
    "**problems**:\n",
    "\n",
    "1. States Dependency\n",
    "2. Variable Input Length\n",
    "\n",
    "**challenge**:\n",
    "1. Vanishing, Exploding Problem  -> for long-sequence problems \n",
    "2. Image climb mountains\n",
    "\n",
    "LSTM: \n",
    "solve: exploding/vanishing problems \n",
    "\n",
    "long-dependency\n",
    "\n",
    "有一个gate系数.能解决exploding/\n",
    "\n",
    "<img src=\"https://raw.githubusercontent.com/NickChilling/pic_bed/master/img/20191005213010.png\"/>"
   ]
  },
  {
   "cell_type": "code",
   "execution_count": null,
   "metadata": {},
   "outputs": [],
   "source": []
  }
 ],
 "metadata": {
  "kernelspec": {
   "display_name": "Python 3",
   "language": "python",
   "name": "python3"
  },
  "language_info": {
   "codemirror_mode": {
    "name": "ipython",
    "version": 3
   },
   "file_extension": ".py",
   "mimetype": "text/x-python",
   "name": "python",
   "nbconvert_exporter": "python",
   "pygments_lexer": "ipython3",
   "version": "3.7.4"
  }
 },
 "nbformat": 4,
 "nbformat_minor": 2
}
