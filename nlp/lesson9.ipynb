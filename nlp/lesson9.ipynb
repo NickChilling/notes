{
 "cells": [
  {
   "cell_type": "markdown",
   "metadata": {},
   "source": [
    "# lesson 9\n",
    "## K-means\n",
    "### 算法\n",
    "\n",
    "1. 随机选k个点，定为k个簇\n",
    "2. 对于每个点，计算其与k个簇的距离。（距离计算: 该点与簇中均值点的距离）\n",
    "3. 选择最近的簇，将该点加入该簇中。\n",
    "4. 重新计算均值点\n",
    "5. 经过一轮的计算，没有簇进行了更新则退出计算。"
   ]
  },
  {
   "cell_type": "markdown",
   "metadata": {},
   "source": [
    "### 问题\n",
    "\n",
    "1. 特征的向量化并不容易处理\n",
    "2. 计算复杂度比较高。N个数据点，k个簇，D维。M次迭代$NKDM$\n",
    "3. 每次的结果存在随机性\n",
    "4. 只能进行球形分类。\n",
    "\n",
    "### 算法优化\n",
    "1. 找瓶颈\n",
    "2. 做预处理"
   ]
  },
  {
   "cell_type": "markdown",
   "metadata": {},
   "source": [
    "## Embedding Cluster\n",
    "\n",
    "### Graph Neural Network\n",
    "\n",
    "## Semi Supervised & active learning\n",
    "\n",
    "active learning ： 大部分数据没有标注，如何选择有效的数据对它们进行标注。"
   ]
  },
  {
   "cell_type": "markdown",
   "metadata": {},
   "source": [
    "## 神经网络\n",
    "\n",
    "### 为什么火了？\n",
    "1. 训练的数据量和参数数量匹配\n",
    "2. 计算能力的提升"
   ]
  },
  {
   "cell_type": "markdown",
   "metadata": {},
   "source": [
    "神经网络的本质是什么？\n",
    "- [x] 复读机\n",
    "- [ ] 函数拟合将同类不相似的样本的映射到相似空间。非同类相似的样本映射到相异区间。\n"
   ]
  },
  {
   "cell_type": "markdown",
   "metadata": {},
   "source": [
    "### 激活函数\n",
    "\n",
    "`sigmoid` 的问题：一些区间过于平缓，导数太小，容易导致梯度消失。"
   ]
  }
 ],
 "metadata": {
  "kernelspec": {
   "display_name": "Python 3",
   "language": "python",
   "name": "python3"
  },
  "language_info": {
   "codemirror_mode": {
    "name": "ipython",
    "version": 3
   },
   "file_extension": ".py",
   "mimetype": "text/x-python",
   "name": "python",
   "nbconvert_exporter": "python",
   "pygments_lexer": "ipython3",
   "version": "3.7.3"
  }
 },
 "nbformat": 4,
 "nbformat_minor": 2
}
