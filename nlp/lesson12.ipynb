{
 "cells": [
  {
   "cell_type": "markdown",
   "metadata": {},
   "source": [
    "# CNN\n",
    "\n",
    "## 概念\n",
    "\n",
    "一个Sense: 视觉感知是逐步形成的.texture -> liner -> faces -> graph \n",
    "\n",
    "因此使用多个kernel 一个个的图层/形状进行识别.根据识别结果进行分类.\n",
    "\n",
    "<img src=\"https://raw.githubusercontent.com/NickChilling/notes/master/pic_bed/20190928163944.png\"/>\n",
    "\n",
    "### kernel\n",
    "\n",
    "那么一个图层中,各个不同的特征/matrix 是否使用不同的kernel呢? -> 使用相同的kernel 权值共享.\n",
    "\n",
    "优点: \n",
    "    1. 减少参数 \n",
    "    2. local invariance  在cs中,表示程序运行过程中, 始终不变的变量.而在cv中含义是 一个物体,在图片的任何位置都应该被识别出来.\n",
    "\n",
    "但也可以对同一图层同时使用不同的kernel. 每个kernel 对应一层图, 多个kernel 生成一个cube 形状的新图层\n",
    "\n",
    "对于cube形状的图层, kernl 也可以是一个cube .\n",
    "\n",
    "### padding\n",
    "padding: zero_padding -> 使用0对边框进行padding  \n",
    "         valid_padding -> 不进行padding\n",
    "\n",
    "为什么使用 Valid_padding : \n",
    "1. 不在意形状的变化\n",
    "2. 在当前stride 下, 可以进行完整的mapping\n",
    "\n",
    "### new_layer\n",
    "矩阵大小的计算: w/h 宽高度, p padding 的层数,通常对称 , f kernel 宽高度 s stride\n",
    "\n",
    "$$[(w+2p-f)/s]+1 $$\n",
    "\n",
    "### pooling\n",
    "意义: 在保留原本特征的同时,降低了的模型的复杂性\n",
    "\n",
    "types: max-pooling , average-pooling\n",
    "\n",
    "当需要降低模型复杂度时, 也可以不使用pooling. -> 使用filter 小, stride 大的kernel 进行处理. "
   ]
  },
  {
   "cell_type": "markdown",
   "metadata": {},
   "source": [
    "## 发展历史\n",
    "\n",
    "### VGG\n",
    "\n",
    "第一个深度神经网络\n",
    "\n",
    "### GooLenet\n",
    "\n",
    "将不同形状的核在同一层中使用,并将结果在同一纬度拼接. 作为下一层的输入. \n",
    "\n",
    "<img src=\"https://raw.githubusercontent.com/NickChilling/notes/master/pic_bed/20190928192254.png\"/>\n",
    "\n",
    "### ResNet\n",
    "\n",
    "1000多层 \n",
    "\n",
    "使用了跳跃式的结构\n",
    "\n",
    "$$x[2] = x[0]+x[1]$$\n",
    "\n",
    "<img src=\"https://raw.githubusercontent.com/NickChilling/notes/master/pic_bed/20190928192425.png\"/>"
   ]
  },
  {
   "cell_type": "markdown",
   "metadata": {},
   "source": [
    "## Text CNN"
   ]
  }
 ],
 "metadata": {
  "kernelspec": {
   "display_name": "Python 3",
   "language": "python",
   "name": "python3"
  },
  "language_info": {
   "codemirror_mode": {
    "name": "ipython",
    "version": 3
   },
   "file_extension": ".py",
   "mimetype": "text/x-python",
   "name": "python",
   "nbconvert_exporter": "python",
   "pygments_lexer": "ipython3",
   "version": "3.7.3"
  }
 },
 "nbformat": 4,
 "nbformat_minor": 2
}
