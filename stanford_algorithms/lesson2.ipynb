{
 "cells": [
  {
   "cell_type": "markdown",
   "metadata": {},
   "source": [
    "# master method\n",
    "\n",
    "a general tool to analyze divide and conquer algorithms.\n",
    "\n",
    "## motivation\n",
    "当我们有了递归表达式之后,如何去计算时间复杂度?"
   ]
  },
  {
   "cell_type": "markdown",
   "metadata": {},
   "source": [
    "\n",
    "## The Master Method\n",
    "\n",
    "**Assumption:** \n",
    "1. all subproblems have equal size \n",
    "\n",
    "**Recurrence Format**\n",
    "1. Base Case: T(n) <= a constant  for all sufficient small n \n",
    "2. For all larger n : T(n) <= aT(n/b)+O(n^d)  , where a = number of subproblems , b input size , d: exponent in suming time of combine step . a,b,d independent of n \n",
    "\n",
    "<img src=\"https://raw.githubusercontent.com/NickChilling/pic_bed/master/img/20191004095354.png\"/>"
   ]
  },
  {
   "cell_type": "markdown",
   "metadata": {},
   "source": [
    "## examples\n",
    "\n",
    "### MergeSort\n",
    "a= 2 , b =2 , d = 1\n",
    "\n",
    "$a=b^d$\n",
    "\n",
    "$T(n)<=O(n^d\\log n) = O(nlog)$\n",
    "\n",
    "### BinarySort\n",
    "\n",
    "$T(n)<=T(n/2)+1$\n",
    "\n",
    "a = 1 ,b = 2 , d= 0\n",
    "\n",
    "$T(n) = n^0\\log n$\n",
    "\n",
    "### integer multiplication\n",
    "$T(n) <= 4T(n/2)+n$\n",
    "\n",
    "a = 4 b = 2  d= 1\n",
    "\n",
    "$T(n) <= O^{\\log_ba} =  O(n^2)$ \n",
    "\n",
    "Gauss's recursive\n",
    "\n",
    "a = 3 b = 2  d = 1\n",
    "\n",
    "$T(n) = O(n^{\\log_23})$\n",
    "\n",
    "### Strassen's Matrix Multiplication Algorithm\n",
    "\n",
    "a = 7 b= 2 c = 2\n",
    "\n",
    "$T(n) = O(n^{\\log_27})$"
   ]
  },
  {
   "cell_type": "markdown",
   "metadata": {},
   "source": [
    "## Proof\n",
    "Assume :\n",
    "\n",
    "Recurrence is \n",
    "\n",
    "1. T(1)<=c \n",
    "2. T(n) <= aT(n/b) +cn^d\n",
    "\n",
    "and n is  a power of b. \n",
    "\n",
    "idea: generalize mergesort analysis\n",
    "\n",
    "for each j = 0,1,2, $\\log_bn$ , we have $a^j$ subproblems , each of size $n/b^j$\n",
    "\n",
    "<img src=\"https://raw.githubusercontent.com/NickChilling/pic_bed/master/img/20191004112427.png\"/>\n",
    "\n",
    "<img src=\"https://raw.githubusercontent.com/NickChilling/pic_bed/master/img/20191004112512.png\"/>"
   ]
  },
  {
   "cell_type": "markdown",
   "metadata": {},
   "source": [
    "对于在第i层的递归方程式, 我们有$a^j$ 个子问题, 规模为$n/b^j$, 那么归并这些问题,就需要 ${n/b^j}^d$ 也就得到上式"
   ]
  },
  {
   "cell_type": "code",
   "execution_count": null,
   "metadata": {},
   "outputs": [],
   "source": []
  }
 ],
 "metadata": {
  "kernelspec": {
   "display_name": "Python 3",
   "language": "python",
   "name": "python3"
  },
  "language_info": {
   "codemirror_mode": {
    "name": "ipython",
    "version": 3
   },
   "file_extension": ".py",
   "mimetype": "text/x-python",
   "name": "python",
   "nbconvert_exporter": "python",
   "pygments_lexer": "ipython3",
   "version": "3.7.4"
  }
 },
 "nbformat": 4,
 "nbformat_minor": 2
}
