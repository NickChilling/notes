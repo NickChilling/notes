{
 "cells": [
  {
   "cell_type": "markdown",
   "metadata": {},
   "source": [
    "# an Array of Sequences\n",
    "\n",
    "字符串、列表、bytesequence、数组、XML元素和数据库结果都是序列\n",
    "\n",
    "它们也都需要一系列共同操作：遍历、切片、排序、拼接。\n",
    "\n",
    "## Overview of Built-In Sequences\n",
    "\n",
    "根据序列的数据结构，可以分为`Container`和`Flat`\n",
    "\n",
    "`Container`对应的是`list,tuple, collections.deque`\n",
    "`Flat` 对应的是`str, bytes, bytearray, memoryview, array.array`\n",
    "\n",
    "区别在于，`Container`存储的是内部对象的引用。因此，其内部成员可以是不同的对象。\n",
    "\n",
    "而`Flat`则在物理上使用了自己的内存空间存储了每个成员的值。\n",
    "\n",
    "另一种区分方法，则是根据是否可变进行区分。\n",
    "\n",
    "`mutable` ->`list, bytearray, array.array, collections.deque, memoryview`\n",
    "\n",
    "\n",
    "`immutable` -> `tuple , str , and bytes`"
   ]
  },
  {
   "cell_type": "markdown",
   "metadata": {},
   "source": [
    "## List Comprehensions and Generator Expressions\n",
    "\n",
    "`[funct(a) for a in seq]` to create a list \n"
   ]
  },
  {
   "cell_type": "code",
   "execution_count": 2,
   "metadata": {},
   "outputs": [
    {
     "name": "stdout",
     "output_type": "stream",
     "text": [
      "7.1339309215545654e-06\n",
      "7.808208465576172e-06\n"
     ]
    },
    {
     "data": {
      "text/plain": [
       "[162, 163, 165, 8364, 164]"
      ]
     },
     "execution_count": 2,
     "metadata": {},
     "output_type": "execute_result"
    }
   ],
   "source": [
    "import time\n",
    "def time_counter(f):\n",
    "    def wrapper(*args):\n",
    "        t1 = time.perf_counter()\n",
    "        res = f(*args)\n",
    "        print(time.perf_counter()-t1)\n",
    "        return res\n",
    "    return wrapper\n",
    "\n",
    "@time_counter\n",
    "def listcompre():\n",
    "    symbols = \"$¢£¥€¤\"\n",
    "    return [ord(s) for s in symbols if ord(s) > 127]\n",
    "@time_counter\n",
    "def filtermap():\n",
    "    symbols = \"$¢£¥€¤\"\n",
    "    return list(filter(lambda c: c > 127, map(ord, symbols)))\n",
    "\n",
    "listcompre()\n",
    "filtermap()"
   ]
  },
  {
   "cell_type": "markdown",
   "metadata": {},
   "source": [
    "从上面的计算结果来看, `map`操作并不一定比`list comprehension`快"
   ]
  },
  {
   "cell_type": "markdown",
   "metadata": {},
   "source": [
    "#### Generator\n",
    "\n",
    "使用迭代器一个个地生成元素,相比于一次全部生成要更加节省内存.\n",
    "\n",
    "如果要将generator作为函数参数传入. 可以不添加括号."
   ]
  },
  {
   "cell_type": "markdown",
   "metadata": {},
   "source": [
    "## Tuple\n",
    "\n",
    "tuple 这一数据结构不仅仅可以被用作immutable list , 也有其他非常重要的用途\n",
    "\n",
    "1. 可以被当作数据记录使用. \n",
    "\n",
    "当数据的位置具有特定含义时, tuple可以被视作记录. \n",
    "如 `(name, age, money)` \n",
    "\n",
    "2. 数据打包解包\n",
    "通过使用`*` 对tuple 进行解包. 让tuple成为数据的载体 (其实list也可以)\n",
    "\n",
    "\n",
    "解包nested tuples \n",
    "\n",
    "`a,b,(c,d) = (1,2,(3,4))` "
   ]
  },
  {
   "cell_type": "code",
   "execution_count": 9,
   "metadata": {},
   "outputs": [
    {
     "data": {
      "text/plain": [
       "[3]"
      ]
     },
     "execution_count": 9,
     "metadata": {},
     "output_type": "execute_result"
    }
   ],
   "source": [
    "a, b ,*c = [1,2,3]\n",
    "c"
   ]
  },
  {
   "cell_type": "code",
   "execution_count": 8,
   "metadata": {},
   "outputs": [
    {
     "data": {
      "text/plain": [
       "[]"
      ]
     },
     "execution_count": 8,
     "metadata": {},
     "output_type": "execute_result"
    }
   ],
   "source": [
    "a, b ,*c = [1,2]\n",
    "c"
   ]
  },
  {
   "cell_type": "code",
   "execution_count": 7,
   "metadata": {},
   "outputs": [
    {
     "data": {
      "text/plain": [
       "[3, 4]"
      ]
     },
     "execution_count": 7,
     "metadata": {},
     "output_type": "execute_result"
    }
   ],
   "source": [
    "a, b ,*c = [1,2,3,4]\n",
    "c"
   ]
  },
  {
   "cell_type": "markdown",
   "metadata": {},
   "source": [
    "## Slicing\n",
    "\n",
    "Python中 位置是从0开始计数的,而且slice时的区间是 左闭右开. 为什么? 有什么好处?\n",
    "1. 容易计算slice结果的长度.比如 my_list[:4] 那么就有4个元素, 或者直接使用end-start\n",
    "2. 容易简单地切开区间而没有重叠. 比如x[:4], x[4:] \n",
    " "
   ]
  }
 ],
 "metadata": {
  "kernelspec": {
   "display_name": "Python 3",
   "language": "python",
   "name": "python3"
  },
  "language_info": {
   "codemirror_mode": {
    "name": "ipython",
    "version": 3
   },
   "file_extension": ".py",
   "mimetype": "text/x-python",
   "name": "python",
   "nbconvert_exporter": "python",
   "pygments_lexer": "ipython3",
   "version": "3.7.3"
  }
 },
 "nbformat": 4,
 "nbformat_minor": 2
}
