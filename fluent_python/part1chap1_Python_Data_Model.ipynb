{
 "cells": [
  {
   "cell_type": "markdown",
   "metadata": {},
   "source": [
    "# The Python Data Model\n",
    "\n",
    "data model: a description of Python as a framework.该语言是如何构建的, 构建它的基本砖块是什么.\n",
    "\n",
    "\"the property of objects in general in a specific computer programming language\" \n",
    "\n",
    "一个计算机语言中在对象中普遍(默认)存在的属性.\n",
    "\n",
    "通过魔术方法构建出一系列统一的API.\n",
    "\n",
    "`__len__` -> `len(obj)`\n",
    "`__getitem__` -> `obj[i]`\n",
    "`__contains__` -> `a in b`\n",
    "\n",
    "## How Special Method Are Used\n",
    "魔术方法通常是默认通过解释器进行调用,而不是用户直接调用. 比如, 如果不是在进行元编程. 用户调用的应该是`len(obj)` 而不是 `obj.__len__()` \n",
    "\n",
    "\n",
    "解释器通常会根据调用的魔术方法去对用对应的方法. 但对于内建对象来说, 会直接去调用他们的`Cython`实现.这通常比调用方法更快.\n",
    "\n",
    "另外, 对魔术方法的隐式调用相比之下会更加频繁. 比如`for i in x` 其实就是隐式调用了`x` 的 `iter`方法. \n",
    "\n",
    "不同的魔术方法可能有相似的功能, 但仍然存在具体的差异.需要根据自己的调用需求调用特定的方法.\n"
   ]
  },
  {
   "cell_type": "code",
   "execution_count": 2,
   "metadata": {},
   "outputs": [],
   "source": [
    "from math import hypot\n",
    "\n",
    "class Vector:\n",
    "    \n",
    "    def __init__(self, x=0, y=0):\n",
    "        self.x = x\n",
    "        self.y = y\n",
    "        \n",
    "    def __repr__(self):\n",
    "        return \"Vector(%r, %r)\" %(self.x, self.y)\n",
    "    \n",
    "    def __abs__(self):\n",
    "        return hypot(self.x, self.y)\n",
    "    \n",
    "    def __bool(self):\n",
    "        return bool(abs(self))  # 这里调用的是abs 而不是self.__abs__\n",
    "    \n",
    "    def __add__(self, other):\n",
    "        x = self.x + other.x\n",
    "        y = self.y + other.y\n",
    "        return Vector(x, y) # vector instead of self.__init__\n",
    "    \n",
    "    def __mul__(self, scalar):\n",
    "        return Vector(self.x*scalar, self.y*scalar)"
   ]
  },
  {
   "cell_type": "markdown",
   "metadata": {},
   "source": [
    "## string representation\n",
    "如果希望一个对象有字符串表示, 应该实现`__repr__` 或 `__str__`这两个方法.\n",
    "\n",
    "这两个方法的区别在于\n",
    "\n",
    "`__repr__` 是在交互式控制台或者debugger中调用的. 用户应该能够通过它的返回结果原样的创建出这样一个对象出来. 因此,它的返回结果通常都和构造函数非常相像. 在格式化字符串中, 用 `%r` 表示\n",
    "\n",
    "`__str__` 是在 `print`函数中调用. 对于它的返回结果, 通常需要考虑一个适用于展示给终端用户的形式.\n",
    "\n",
    "在没有实现`__str__` 时, 对`__str__`的调用会默认`fallback`到`__repr__`上. 在格式化字符串中, 通常使用`%s`表示调用这个方法.\n"
   ]
  },
  {
   "cell_type": "code",
   "execution_count": 3,
   "metadata": {},
   "outputs": [
    {
     "name": "stdout",
     "output_type": "stream",
     "text": [
      "__repr__: 'hello world'\n",
      " __str__: hello world\n"
     ]
    }
   ],
   "source": [
    "a = \"hello world\"\n",
    "print(\"__repr__: %r\\n __str__: %s\" %(a, a ))"
   ]
  },
  {
   "attachments": {},
   "cell_type": "markdown",
   "metadata": {},
   "source": [
    "## boolean value of custom type \n",
    "\n",
    "determine whether a value is truthy or falsy . call `bool(x)` \n",
    "\n",
    "对于用户自定义类型, 在没有实现`__len__` 或 `__bool__` 方法下, 默认都为`True` .\n",
    "\n",
    "当没有实现`__bool__`时, 如果`__len__`返回值为0 则是`False`\n",
    "\n",
    "## OverView of Special Method\n",
    "<img src=\"https://raw.githubusercontent.com/NickChilling/pic_bed/master/img/20190929154923.png\"/>\n"
   ]
  },
  {
   "cell_type": "markdown",
   "metadata": {},
   "source": [
    "## why len not a method\n",
    "\n",
    "`len`这个函数本身是内建对象的特殊方法. 调用`len`并不会调用函数,而是调用`CPython`中的方法,从而更加快捷. 但为了统一,也给用户提供了`__len__`这样一个接口. \"Special cases aren't special enough to break the rules\"\n"
   ]
  },
  {
   "cell_type": "code",
   "execution_count": null,
   "metadata": {},
   "outputs": [],
   "source": []
  }
 ],
 "metadata": {
  "kernelspec": {
   "display_name": "Python 3",
   "language": "python",
   "name": "python3"
  },
  "language_info": {
   "codemirror_mode": {
    "name": "ipython",
    "version": 3
   },
   "file_extension": ".py",
   "mimetype": "text/x-python",
   "name": "python",
   "nbconvert_exporter": "python",
   "pygments_lexer": "ipython3",
   "version": "3.7.3"
  }
 },
 "nbformat": 4,
 "nbformat_minor": 2
}
