{
 "cells": [
  {
   "cell_type": "markdown",
   "metadata": {},
   "source": [
    "# Tools\n",
    "## Regular Expressions\n",
    "find a string -> `s.find('word')`"
   ]
  },
  {
   "cell_type": "markdown",
   "metadata": {},
   "source": [
    "### difference between seacrh & match in re\n",
    "\n",
    "`search`: return True if pattern appears anywhere \n",
    "\n",
    "`match`: return True if pattern appears at the start of text.\n"
   ]
  },
  {
   "cell_type": "code",
   "execution_count": 2,
   "metadata": {},
   "outputs": [
    {
     "name": "stdout",
     "output_type": "stream",
     "text": [
      "Help on function search in module re:\n",
      "\n",
      "search(pattern, string, flags=0)\n",
      "    Scan through string looking for a match to the pattern, returning\n",
      "    a Match object, or None if no match was found.\n",
      "\n"
     ]
    }
   ],
   "source": [
    "import re\n",
    "help(re.search)"
   ]
  },
  {
   "cell_type": "code",
   "execution_count": 3,
   "metadata": {},
   "outputs": [
    {
     "name": "stdout",
     "output_type": "stream",
     "text": [
      "Help on function match in module re:\n",
      "\n",
      "match(pattern, string, flags=0)\n",
      "    Try to apply the pattern at the start of the string, returning\n",
      "    a Match object, or None if no match was found.\n",
      "\n"
     ]
    }
   ],
   "source": [
    "help(re.match)"
   ]
  },
  {
   "cell_type": "code",
   "execution_count": 29,
   "metadata": {},
   "outputs": [
    {
     "name": "stdout",
     "output_type": "stream",
     "text": [
      "test passed\n"
     ]
    }
   ],
   "source": [
    "from re import search, match\n",
    "test_expr = r\"baa*!\"\n",
    "def test():\n",
    "    assert search(test_expr, \"sheep said baaaa!\")\n",
    "    assert bool(search(test_expr,\"sheep said baaaa humbug\")) == False\n",
    "    assert bool(match(test_expr,\"sheep said baaaa!\")) == False\n",
    "    assert match(test_expr,\"baaaaa! said the sheep\")\n",
    "    print(\"test passed\")\n",
    "test()"
   ]
  },
  {
   "cell_type": "code",
   "execution_count": 24,
   "metadata": {},
   "outputs": [],
   "source": [
    "assert bool(search(test_expr,\"sheep said baaaa humbug\"))==False"
   ]
  },
  {
   "cell_type": "code",
   "execution_count": 18,
   "metadata": {},
   "outputs": [],
   "source": [
    "search(test_expr,\"sheep said baaaa humbug\") "
   ]
  },
  {
   "cell_type": "code",
   "execution_count": 31,
   "metadata": {},
   "outputs": [],
   "source": [
    "def search(pattern, text):\n",
    "    if pattern.startswith(\"^\"):\n",
    "        return match(pattern[1:],text)\n",
    "    else:\n",
    "        return match(\".*\"+pattern,text) # 如果text start with \\n 呢。 .*并不能匹配\\n\n",
    "search(test_expr, \"\\nbaaaaa! said the sheep\")"
   ]
  },
  {
   "cell_type": "code",
   "execution_count": null,
   "metadata": {},
   "outputs": [],
   "source": [
    "def match(pattern, text):\n",
    "    if pattern == \"\":\n",
    "        return True\n",
    "    elif pattern == \"$\":\n",
    "        return (text==\"\")\n",
    "    elif len(pattern) > 1 and pattern[1] in \"*?\":\n",
    "        p, op, pat = patter[0], pattern[1], pattern[2:]\n",
    "        if op==\"*\":\n",
    "            return match_star(p, pat, text)\n",
    "        elif op==\"?\":\n",
    "            if match1(p, text) and match(pat, text[1:]):\n",
    "                return True\n",
    "            else:\n",
    "                return match(pat,text)\n",
    "    else:\n",
    "        (match1(pattern[0], text) and \n",
    "        match(pattern[1:], text[1:]))\n",
    "def match1(p, text):\n",
    "    if not text: return False\n",
    "    return p== \".\" or p == text[0]\n",
    "\n",
    "def match_star(p, pattern, text):\n",
    "    return (match(pattern, text) or (match1(p, text) and match_start(p, pat, test[1:]))"
   ]
  },
  {
   "cell_type": "markdown",
   "metadata": {},
   "source": [
    "## language\n",
    "### python\n",
    "\n",
    "statement\n",
    "\n",
    "expressions\n",
    "\n",
    "format \n",
    "\n",
    "class- operator overloading\n",
    "\n"
   ]
  },
  {
   "cell_type": "markdown",
   "metadata": {},
   "source": [
    "### inventory of concepts\n",
    "pattern : text -> result \n",
    "\n",
    "partial result -> matchset(pattern, text) return set of remainders\n",
    "\n",
    "control over iteration"
   ]
  },
  {
   "cell_type": "markdown",
   "metadata": {},
   "source": [
    "### RE API\n",
    "|func | example | set |\n",
    "|----|------|-------|\n",
    "|lit(s)| lit(\"a\")|{a}|\n",
    "|seq(x,y)| seq(lit(\"a\"),lit(\"b\"))| {ab}|\n",
    "|alt(x,y) | alt(-, -)| {a, b}|\n",
    "|star(x) | star(lit(\"a\"))| {a, aa,aaa}|\n",
    "| oneof(c)| oneof(\"abc\")| {a, b, c}|\n",
    "| eol | seq(lit(\"a\"),eol)| {a}|"
   ]
  },
  {
   "cell_type": "code",
   "execution_count": 6,
   "metadata": {},
   "outputs": [],
   "source": [
    "null = frozenset()\n",
    "def components(pattern):\n",
    "    \"patterns are passed in nested list or tuple\"\n",
    "    x = pattern[1] if len(pattern) > 1 else None\n",
    "    y = pattern[2] if len(pattern) > 2 else None\n",
    "    return pattern[0], x, y\n",
    "def matchset(pattern, text):\n",
    "    op, x, y = components(pattern)\n",
    "    if \"lit\" == op:\n",
    "        return set([text[len(x):]]) if text.startswith(x) else null\n",
    "    elif \"seq\" == op:\n",
    "        return set(t2 for t1 in matchset(x, text) for  t2 in matchset(y,t1))\n",
    "    elif \"alt\" == op:\n",
    "        return matchset(x, text) | matchset(y, text)\n",
    "    elif \"dot\" == op:\n",
    "        return set([text[1:]]) if text else null\n",
    "    elif \"oneof\" == op:\n",
    "        return set([\"\"]) if text.start  else null\n",
    "    elif \"eol\" == op:\n",
    "        return set([\"\"]) if text ==\"\" else null \n",
    "\n",
    "    elif \"star\" == op:\n",
    "        return (set([text]) | set(t2 for t1 in matchset(x, text) \n",
    "                                 for t2 in matchset(pattern,t1))) \n",
    "    # star 可能会重复多次，但没有关系，继续递归匹配子串\n",
    "    else:\n",
    "        raise ValueError(\"unknown pattern: %s\" % pattern)"
   ]
  },
  {
   "cell_type": "code",
   "execution_count": 10,
   "metadata": {},
   "outputs": [],
   "source": [
    "def lit(string):  return ('lit', string)\n",
    "def seq(x, y):    return ('seq', x, y)\n",
    "def alt(x, y):    return (\"alt\", x, y)\n",
    "def star(x):      return (\"star\", x)\n",
    "def plus(x):      return (\"seq\", x, (\"star\", x))\n",
    "def opt(x):       return alt(lit(''), x) #opt(x) means that x is optional\n",
    "def oneof(chars): return ('oneof', tuple(chars))\n",
    "dot = ('dot',)\n",
    "eol = (\"eol\",)\n",
    "\n",
    "def test():\n",
    "    assert lit('abc')         == ('lit', 'abc')\n",
    "    assert seq(('lit', 'a'), \n",
    "               ('lit', 'b'))  == ('seq', ('lit', 'a'), ('lit', 'b'))\n",
    "    assert alt(('lit', 'a'), \n",
    "               ('lit', 'b'))  == ('alt', ('lit', 'a'), ('lit', 'b'))\n",
    "    assert star(('lit', 'a')) == ('star', ('lit', 'a'))\n",
    "    assert plus(('lit', 'c')) == ('seq', ('lit', 'c'), \n",
    "                                  ('star', ('lit', 'c')))\n",
    "    assert opt(('lit', 'x'))  == ('alt', ('lit', ''), ('lit', 'x'))\n",
    "    assert oneof('abc')       == ('oneof', ('a', 'b', 'c'))\n",
    "    return 'tests pass'"
   ]
  },
  {
   "cell_type": "code",
   "execution_count": 11,
   "metadata": {},
   "outputs": [
    {
     "data": {
      "text/plain": [
       "'tests pass'"
      ]
     },
     "execution_count": 11,
     "metadata": {},
     "output_type": "execute_result"
    }
   ],
   "source": [
    "test()"
   ]
  },
  {
   "cell_type": "markdown",
   "metadata": {},
   "source": [
    "### review on api design\n",
    "<img src=\"https://raw.githubusercontent.com/NickChilling/notes/master/pic_bed/20190920135317.png\"/>"
   ]
  },
  {
   "cell_type": "code",
   "execution_count": null,
   "metadata": {},
   "outputs": [],
   "source": [
    "\n",
    "def search(pattern, text):\n",
    "    \"Match pattern anywhere in text; return longest earliest match or None.\"\n",
    "    for i in range(len(text)):\n",
    "        m = match(pattern, text[i:])\n",
    "        if m is not None: # include \"\"\n",
    "            return m\n",
    "        \n",
    "def match(pattern, text):\n",
    "    \"Match pattern against start of text; return longest match found or None.\"\n",
    "    remainders = matchset(pattern, text)\n",
    "    if remainders:\n",
    "        shortest = min(remainders, key=len)\n",
    "        return text[:len(text)-len(shortest)]\n",
    "    \n",
    "def test():\n",
    "    assert match(('star', ('lit', 'a')),'aaabcd') == 'aaa'\n",
    "    assert match(('alt', ('lit', 'b'), ('lit', 'c')), 'ab') == None\n",
    "    assert match(('alt', ('lit', 'b'), ('lit', 'a')), 'ab') == 'a'\n",
    "    assert search(('alt', ('lit', 'b'), ('lit', 'c')), 'ab') == 'b'\n",
    "    return 'tests pass'"
   ]
  },
  {
   "cell_type": "markdown",
   "metadata": {},
   "source": [
    "`matchset`中存在一个问题是：每次调用都需要重新解析`pattern`。\n",
    "\n",
    "当我们需要对不同的文本解析相同的模式时，这样做时非常低效的。(解释)\n",
    "\n",
    "因此，可以考虑先将`pattern`解析，每次调用`matchset`传入的是解析的结果。 (编译)\n"
   ]
  },
  {
   "cell_type": "code",
   "execution_count": 23,
   "metadata": {},
   "outputs": [
    {
     "name": "stdout",
     "output_type": "stream",
     "text": [
      "{'bc'}\n",
      "test passes\n"
     ]
    }
   ],
   "source": [
    "def lit(s): return lambda text: set([text[len(s):]]) if text.startswith(s) else null\n",
    "# 返回一个函数，而不是string\n",
    "def seq(x, y): return lambda text: set().union(*map(y, x(text)))    # why use set().union \n",
    "\n",
    "def alt(x, y): return lambda text: set().union(x(text),y(text))\n",
    "\n",
    "def oneof(chars): return lambda t: set([t[1:]]) if (t and t[0] in chars)\n",
    "\n",
    "dot = lambda t: set([t[1:]]) if t else null\n",
    "\n",
    "eol = lambda t: set([\"\"]) if t==\"\" else null\n",
    "\n",
    "def star(x): return lambda t: (set[t]) | set(t2 for t1 in x[t] if t1!=t for t2 in star(x)(t1))\n",
    "def test():\n",
    "    g = alt(lit('a'), lit('b'))\n",
    "    print(g(\"abc\"))\n",
    "    assert g('abc') == set(['bc'])\n",
    "    return 'test passes'\n",
    "print(test())"
   ]
  },
  {
   "cell_type": "markdown",
   "metadata": {},
   "source": [
    "上面这个思路实际上来说，就是将原本统一由`matchset`通过`if else`进行的`tuple`-> `string`的转换改成了通过`return a funciton`在每个api中进行转换。"
   ]
  },
  {
   "cell_type": "markdown",
   "metadata": {},
   "source": [
    "之前实现的是`recoginzer` ， 现在开始尝试实现`generator`\n",
    "对于`a*`这样拥有无限个结果的`pattern` .我们可以考虑用`Python`中的生成器来实现。但实际上，可以给生成器加上一个定长参数"
   ]
  },
  {
   "cell_type": "code",
   "execution_count": null,
   "metadata": {},
   "outputs": [],
   "source": [
    "def lit(s): return lambda Ns:set([s]) if len(s) in Ns else null\n",
    "def alt(x, y): return lambda Ns: x(Ns) | y(Ns)\n",
    "def star(x): return lambda Ns: opt(plus(x))(Ns)\n",
    "def plus(x): return lambda Ns: genseq(x, star(x), Ns, startx=1)\n",
    "def oneof(chars): return lambda Ns: set(chars) if 1 in Ns else null\n",
    "def opt(x): return alt(epsilon,x)\n",
    "dot = oneof(\"?\")\n",
    "epsilon = lit(\"\")"
   ]
  },
  {
   "cell_type": "markdown",
   "metadata": {},
   "source": [
    "`lit`中的`set()`与`text`是无关的。因此应该放到编译过程中进行"
   ]
  },
  {
   "cell_type": "code",
   "execution_count": 24,
   "metadata": {},
   "outputs": [],
   "source": [
    "def genseq(x, y, Ns):\n",
    "    Nss = range(max(Ns)+1)\n",
    "    return set(m1+m2 for m1 in x(Nss) for m2 in y(Nss) if len(m1+m2) in Ns)\n"
   ]
  },
  {
   "cell_type": "markdown",
   "metadata": {},
   "source": [
    "上面这个函数在有结果的情况下，是正确的。但可能会陷入递归出不来\n",
    "对于像 `a = lit(\"a), pat = plus(opt(a))`\n",
    "`generate  a = \"\"` 则退不出递归"
   ]
  },
  {
   "cell_type": "code",
   "execution_count": null,
   "metadata": {},
   "outputs": [],
   "source": [
    "def genseq(x, y, Ns, startx=0 ):\n",
    "    if not Ns:\n",
    "        return Null\n",
    "    xmatches = x(set(range(startx, max(Ns)+1)))\n",
    "    Ns_x = set(len(m) for m in xmatches)\n",
    "    Ns_y = set(n-m for n in Ns for m in Ns_x if n-m>=0)\n",
    "    ymatches = y(Ns_y)\n",
    "    return set(m1+m2 for m1 in xmatches for m2 in ymatches\n",
    "              if len(m1+m2) in Ns)\n"
   ]
  },
  {
   "cell_type": "markdown",
   "metadata": {},
   "source": [
    "seq is binary \n",
    "\n",
    "now: if we want to call seq -> `seq(a, seq(b, seq(c,d)))`\n",
    "\n",
    "what we want : `seq(a,b,c,d)`\n",
    "\n",
    "two things we need to consider changes on `seq` \n",
    "\n",
    "1. backward compatible : for those who call `seq` like `a`->`seq` , there is no difference after we changed `seq` \n",
    "2. internal/external(changes to interface)\n",
    "\n",
    "对于`matchset`这个版本的`seq`而言，我们可以做一个映射函数，做一个多元的`seq`的根据传参数量来返回二元的`seq`，这样就做到了`backward compatible` 但问题在于，在我们的API中，还有许多函数是二元的。难道我们需要对这些函数一个个修改吗？\n",
    "\n",
    "DRY!!!(don't repeat your self)\n",
    "\n",
    "写一个统一将binary函数 改为nary函数的 wrapper\n"
   ]
  },
  {
   "cell_type": "code",
   "execution_count": 34,
   "metadata": {},
   "outputs": [],
   "source": [
    "def n_ary(f):\n",
    "    def n_ary_f(x, *args):\n",
    "        return x if not args else f(x, n_ary_f(*args)) # *args 在于自动解包\n",
    "    return n_ary_f"
   ]
  },
  {
   "cell_type": "code",
   "execution_count": 35,
   "metadata": {},
   "outputs": [],
   "source": [
    "@n_ary\n",
    "def seq_1(x, y): return ('seq', x, y)\n"
   ]
  },
  {
   "cell_type": "code",
   "execution_count": 36,
   "metadata": {
    "scrolled": true
   },
   "outputs": [
    {
     "name": "stdout",
     "output_type": "stream",
     "text": [
      "Help on function n_ary_f in module __main__:\n",
      "\n",
      "n_ary_f(x, *args)\n",
      "\n"
     ]
    }
   ],
   "source": [
    "# problem is \n",
    "help(seq_1)"
   ]
  },
  {
   "cell_type": "code",
   "execution_count": 38,
   "metadata": {},
   "outputs": [],
   "source": [
    "def n_ary_1(f):\n",
    "    def n_ary_f(x, *args):\n",
    "        return x if not args else f(x, n_ary_f(*args)) # *args 在于自动解包\n",
    "    from functools import update_wrapper\n",
    "    update_wrapper(n_ary_f, f) # copy documetation\n",
    "    return n_ary_f"
   ]
  },
  {
   "cell_type": "code",
   "execution_count": 39,
   "metadata": {},
   "outputs": [],
   "source": [
    "@n_ary_1\n",
    "def seq_1(x, y): return ('seq', x, y)"
   ]
  },
  {
   "cell_type": "code",
   "execution_count": 40,
   "metadata": {
    "scrolled": true
   },
   "outputs": [
    {
     "name": "stdout",
     "output_type": "stream",
     "text": [
      "Help on function seq_1 in module __main__:\n",
      "\n",
      "seq_1(x, y)\n",
      "\n"
     ]
    }
   ],
   "source": [
    "help(seq_1)"
   ]
  },
  {
   "cell_type": "markdown",
   "metadata": {},
   "source": [
    "对每个装饰器加上一个`update_wrapper`仍然略显重复。那么，我们可以`@decorator`直接声明这是一个装饰器"
   ]
  },
  {
   "cell_type": "code",
   "execution_count": 43,
   "metadata": {},
   "outputs": [
    {
     "name": "stdout",
     "output_type": "stream",
     "text": [
      "Help on function n_ary_2 in module __main__:\n",
      "\n",
      "n_ary_2(f)\n",
      "\n"
     ]
    }
   ],
   "source": [
    "from functools import update_wrapper\n",
    "def decorator(d):\n",
    "    def _d(fn):\n",
    "        return update_wrapper(d(fn),fn)\n",
    "    update_wrapper(_d, d)\n",
    "    return _d\n",
    "@decorator\n",
    "def n_ary_2(f):\n",
    "    def n_ary_f(x, *args):\n",
    "        return x if not args else f(x, n_ary_f(*args)) \n",
    "    return n_ary_f\n",
    "help(n_ary_2)"
   ]
  },
  {
   "cell_type": "markdown",
   "metadata": {},
   "source": [
    "所谓`decorator`实际上就是返回函数的函数。第一次调用时，只返回一个函数，第二次调用才产生结果。\n",
    "而`decorator`这是将这两个步骤统一起来。两\n",
    "个函数的参数同时传递。"
   ]
  },
  {
   "cell_type": "code",
   "execution_count": 48,
   "metadata": {},
   "outputs": [],
   "source": [
    "@decorator\n",
    "def memo(f):\n",
    "    memo_dict = {}\n",
    "    def wrapper(*args):\n",
    "        if args[0] in memo_dict:\n",
    "            return memo_dict[args[0]]\n",
    "        else:\n",
    "            result = f(*args)\n",
    "            memo_dict[args[0]] = result\n",
    "            return result\n",
    "    return wrapper\n",
    "\n",
    "@memo\n",
    "def fib(n): return fib(n-1)+fib(n-2) if n>2 else 1"
   ]
  },
  {
   "cell_type": "code",
   "execution_count": 51,
   "metadata": {},
   "outputs": [
    {
     "data": {
      "text/plain": [
       "55"
      ]
     },
     "execution_count": 51,
     "metadata": {},
     "output_type": "execute_result"
    }
   ],
   "source": [
    "fib(10)"
   ]
  },
  {
   "cell_type": "code",
   "execution_count": 53,
   "metadata": {},
   "outputs": [],
   "source": [
    "def trace(f):\n",
    "    indent = \"\\t\"\n",
    "    def _f(*args):\n",
    "        signature = \"%s(%s)\" % (f.__name__, \", \".join(map(repr,args)))\n",
    "        print(\"%s--> %s\" %(trace.level*indent, signature))\n",
    "        trace.level += 1\n",
    "        try:\n",
    "            result = f(*args)\n",
    "            print(\"%s<-- %s === %s \" % ((trace.level-1)*indent, signature, result))\n",
    "        finally:\n",
    "            trace.level -= 1\n",
    "        return result\n",
    "    trace.level = 0\n",
    "    return _f"
   ]
  },
  {
   "cell_type": "markdown",
   "metadata": {},
   "source": [
    "### unhashable \n",
    "list is unhashable because it's mutable\n",
    "### types of tool\n",
    "\n",
    "debug -> countcalls, trace ,disabled\n",
    "\n",
    "performance -> memo\n",
    "\n",
    "### disable decorator\n"
   ]
  },
  {
   "cell_type": "code",
   "execution_count": null,
   "metadata": {},
   "outputs": [],
   "source": [
    "@decorator\n",
    "def disable(f):\n",
    "    return f\n",
    "trace = disable # disable trace "
   ]
  },
  {
   "cell_type": "code",
   "execution_count": null,
   "metadata": {},
   "outputs": [],
   "source": []
  }
 ],
 "metadata": {
  "kernelspec": {
   "display_name": "Python 3",
   "language": "python",
   "name": "python3"
  },
  "language_info": {
   "codemirror_mode": {
    "name": "ipython",
    "version": 3
   },
   "file_extension": ".py",
   "mimetype": "text/x-python",
   "name": "python",
   "nbconvert_exporter": "python",
   "pygments_lexer": "ipython3",
   "version": "3.7.3"
  }
 },
 "nbformat": 4,
 "nbformat_minor": 2
}
